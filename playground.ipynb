{
 "cells": [
  {
   "cell_type": "code",
   "execution_count": 1,
   "id": "0de03c04",
   "metadata": {},
   "outputs": [
    {
     "name": "stdout",
     "output_type": "stream",
     "text": [
      "        date      close       high        low       open     volume\n",
      "0 2015-01-02  24.261047  24.729270  23.821672  24.718174  212818400\n",
      "1 2015-01-05  23.577576  24.110152  23.391175  24.030265  257142000\n",
      "2 2015-01-06  23.579798  23.839428  23.218089  23.641931  263188400\n",
      "3 2015-01-07  23.910439  24.010296  23.677436  23.788389  160423600\n",
      "4 2015-01-08  24.829124  24.886821  24.121242  24.238854  237458000\n",
      "Index(['date', 'close', 'high', 'low', 'open', 'volume'], dtype='object')\n",
      "                                date        close         high          low  \\\n",
      "count                           2660  2660.000000  2660.000000  2660.000000   \n",
      "mean   2020-04-14 11:52:57.744360704   100.518854   101.524771    99.410702   \n",
      "min              2015-01-02 00:00:00    20.624054    20.927684    20.425440   \n",
      "25%              2017-08-22 18:00:00    36.189963    36.373538    35.842631   \n",
      "50%              2020-04-15 12:00:00    76.073410    76.929556    75.350762   \n",
      "75%              2022-12-02 18:00:00   162.317322   163.659643   160.492419   \n",
      "max              2025-07-31 00:00:00   258.103729   259.179926   256.718662   \n",
      "std                              NaN    69.474782    70.155295    68.709742   \n",
      "\n",
      "              open        volume  \n",
      "count  2660.000000  2.660000e+03  \n",
      "mean    100.427507  1.138149e+08  \n",
      "min      20.546434  2.323470e+07  \n",
      "25%      36.097480  6.782780e+07  \n",
      "50%      76.039083  9.669585e+07  \n",
      "75%     161.962769  1.391773e+08  \n",
      "max     257.276679  6.488252e+08  \n",
      "std      69.398122  6.812562e+07  \n"
     ]
    }
   ],
   "source": [
    "import pandas as pd\n",
    "\n",
    "# Load a specific file\n",
    "df = pd.read_parquet(\"data/yfinance/AAPL_2015-01-01_2025-08-01.parquet\")\n",
    "\n",
    "# Show top rows\n",
    "print(df.head())\n",
    "\n",
    "# Optional: check columns\n",
    "print(df.columns)\n",
    "\n",
    "# Optional: summary\n",
    "print(df.describe())"
   ]
  },
  {
   "cell_type": "code",
   "execution_count": null,
   "id": "e1903db9",
   "metadata": {},
   "outputs": [],
   "source": []
  }
 ],
 "metadata": {
  "kernelspec": {
   "display_name": "trader",
   "language": "python",
   "name": "python3"
  },
  "language_info": {
   "codemirror_mode": {
    "name": "ipython",
    "version": 3
   },
   "file_extension": ".py",
   "mimetype": "text/x-python",
   "name": "python",
   "nbconvert_exporter": "python",
   "pygments_lexer": "ipython3",
   "version": "3.12.11"
  }
 },
 "nbformat": 4,
 "nbformat_minor": 5
}
